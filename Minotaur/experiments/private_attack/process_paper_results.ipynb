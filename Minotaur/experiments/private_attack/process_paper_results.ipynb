{
 "cells": [
  {
   "cell_type": "code",
   "execution_count": null,
   "id": "8776d260",
   "metadata": {},
   "outputs": [],
   "source": [
    "import re\n",
    "import numpy as np\n",
    "import json\n",
    "import matplotlib\n",
    "import matplotlib.pyplot as plt"
   ]
  },
  {
   "cell_type": "code",
   "execution_count": null,
   "id": "448ff161",
   "metadata": {},
   "outputs": [],
   "source": [
    "def process_one(filename):\n",
    "    p1=re.compile(\"Longest Blockchain Length: (\\d*)\")\n",
    "    p2=re.compile(\"generate a block with parent height: (\\d*)\")\n",
    "    last_longest = None\n",
    "    attack_forking_start = None\n",
    "    attack_success = None\n",
    "    with open(filename) as fin:\n",
    "        for i, line in enumerate(fin):\n",
    "            result = p1.search(line)\n",
    "            if result is not None:\n",
    "                last_longest = (i, int(result.group(1)) )\n",
    "            result = p2.search(line)\n",
    "            if result is not None:\n",
    "                parent = int(result.group(1))\n",
    "                if attack_forking_start is None:\n",
    "                    attack_forking_start = parent\n",
    "                attack_forking_length = parent+1\n",
    "                if attack_forking_length >= last_longest[1]:\n",
    "                    #attack success\n",
    "                    attack_success = attack_forking_length\n",
    "    return attack_forking_start, attack_success"
   ]
  },
  {
   "cell_type": "code",
   "execution_count": null,
   "id": "8bff8dc8",
   "metadata": {},
   "outputs": [],
   "source": [
    "def process_mining_rate(filename):\n",
    "    p1=re.compile(\"Total Number of PoS Blocks in Blockchain: (\\d*)\")\n",
    "    p2=re.compile(\"Total Number of PoW Blocks in Blockchain: (\\d*)\")\n",
    "    mining_rate_pos = None\n",
    "    mining_rate_pow = None\n",
    "    with open(filename) as fin:\n",
    "        for i, line in enumerate(fin):\n",
    "            result = p1.search(line)\n",
    "            if result is not None:\n",
    "                r = int(result.group(1))\n",
    "                mining_rate_pos = r\n",
    "            result = p2.search(line)\n",
    "            if result is not None:\n",
    "                r = int(result.group(1))\n",
    "                mining_rate_pow = r\n",
    "    return mining_rate_pos, mining_rate_pow"
   ]
  },
  {
   "cell_type": "code",
   "execution_count": null,
   "id": "609714a2",
   "metadata": {},
   "outputs": [],
   "source": [
    "def generate_rates(filepath):\n",
    "    ssum=0.0\n",
    "    wsum=0.0\n",
    "    cnt=0\n",
    "    matrix = np.zeros((11,11))\n",
    "    for betas in range(11):\n",
    "        for betaw in range(11):\n",
    "            if betas+betaw==0:\n",
    "                continue\n",
    "            b1=betas/10\n",
    "            b2=betaw/10\n",
    "            s, w = process_mining_rate(filepath+str(betas)+'-'+str(betaw)+'-attacker.log')\n",
    "            ssum+=s\n",
    "            wsum+=w\n",
    "            cnt+=1\n",
    "    return ssum/cnt,wsum/cnt"
   ]
  },
  {
   "cell_type": "code",
   "execution_count": null,
   "id": "8cedb46b",
   "metadata": {},
   "outputs": [],
   "source": [
    "def generate_matrix(filepath):\n",
    "    matrix = np.zeros((11,11))\n",
    "    for betas in range(11):\n",
    "        for betaw in range(11):\n",
    "            if betas+betaw==0:\n",
    "                continue\n",
    "            b1=betas/10\n",
    "            b2=betaw/10\n",
    "            attack_forking_start, attack_success = process_one(filepath+str(betas)+'-'+str(betaw)+'-attacker.log')\n",
    "            if attack_success is not None:\n",
    "                matrix[betas][betaw] = attack_success-attack_forking_start\n",
    "    return matrix"
   ]
  },
  {
   "cell_type": "code",
   "execution_count": null,
   "id": "11cb2c06",
   "metadata": {},
   "outputs": [],
   "source": [
    "def generate_array(filepath):\n",
    "    # for pure pos / pow\n",
    "    matrix = np.zeros((11,))\n",
    "    for betas in range(11):\n",
    "        if betas==0:\n",
    "            continue\n",
    "        b1=betas/10\n",
    "        attack_forking_start, attack_success = process_one(filepath+str(betas)+'-attacker.log')\n",
    "        if attack_success is not None:\n",
    "            matrix[betas] = attack_success-attack_forking_start\n",
    "    return matrix"
   ]
  },
  {
   "cell_type": "code",
   "execution_count": null,
   "id": "f440288d",
   "metadata": {},
   "outputs": [],
   "source": [
    "pure_pos = np.zeros((11,))\n",
    "for i in range(10):\n",
    "    arr1=generate_array('./private_attack_experiment_ouro'+str(i)+'/')\n",
    "    pure_pos+=arr1\n",
    "pure_pos/=10"
   ]
  },
  {
   "cell_type": "code",
   "execution_count": null,
   "id": "115a3680",
   "metadata": {},
   "outputs": [],
   "source": [
    "minotaur = np.zeros((11,11))\n",
    "for i in range(0,10):\n",
    "    matrix=generate_matrix('./private_attack_experiment_mino'+str(i)+'/')\n",
    "    minotaur+=matrix\n",
    "minotaur/=10"
   ]
  },
  {
   "cell_type": "code",
   "execution_count": null,
   "id": "67f4ba9e",
   "metadata": {
    "scrolled": true
   },
   "outputs": [],
   "source": [
    "minotaur_max = np.ceil(np.max(minotaur))\n",
    "norm = matplotlib.colors.Normalize(vmin=0, vmax=minotaur_max)\n",
    "\n",
    "grid = dict(height_ratios=[minotaur.shape[0],1], width_ratios=[1,minotaur.shape[0], 0.5 ])\n",
    "fig, axes = plt.subplots(ncols=3, nrows=2, gridspec_kw = grid, figsize=[6.4*1.2, 5.9*1.2])\n",
    "axes[0,1].imshow(minotaur, cmap='Reds', aspect='auto', interpolation='nearest', origin='lower', norm=norm)\n",
    "axes[0,0].imshow(pure_pos.reshape((11,1)), cmap='Reds', aspect='auto', interpolation='nearest', origin='lower', norm=norm)\n",
    "axes[1,1].imshow(pure_pos.reshape((1,11)), cmap='Reds', aspect='auto', interpolation='nearest', origin='lower', norm=norm)\n",
    "axes[1,0].axis(\"off\")\n",
    "axes[1,2].axis(\"off\")\n",
    "for ax in [axes[0,1], axes[0,0], axes[1,1]]:\n",
    "    ax.set_xticks([]); ax.set_yticks([])\n",
    "fig.colorbar(matplotlib.cm.ScalarMappable(cmap=\"Reds\", norm=norm), cax=axes[0,2])\n",
    "# plt.imshow(minotaur, cmap='Reds', interpolation='nearest', origin='lower')\n",
    "axes[1,1].set_xlabel(r\"$\\beta_w$\")\n",
    "axes[0,0].set_ylabel(r\"$\\beta_s$\")\n",
    "axes[0,1].set_xticks(np.linspace(0,10,6), np.round(np.linspace(0,1,6),2))\n",
    "axes[0,1].set_yticks(np.linspace(0,10,6), np.round(np.linspace(0,1,6),2))\n",
    "axes[0,1].set_title(\"Minotaur\")\n",
    "axes[0,0].set_title(\"Ouroboros\\n Praos\")\n",
    "axes[1,2].set_title(\"Bitcoin\", x=0.5, y=0.1)\n",
    "# fig.set_aspect(1)\n",
    "# plt.colorbar()\n",
    "plt.savefig(\"tmp10.pdf\", bbox_inches='tight')"
   ]
  },
  {
   "cell_type": "code",
   "execution_count": null,
   "id": "e345f50e",
   "metadata": {},
   "outputs": [],
   "source": [
    "lists=[]\n",
    "listw=[]\n",
    "for i in range(0,10):\n",
    "    s,w=generate_rates('./private_attack_experiment_mino'+str(i)+'/')\n",
    "    lists.append(s)\n",
    "    listw.append(w)\n",
    "print('block rates', np.mean(lists)/240, np.mean(listw)/240)"
   ]
  }
 ],
 "metadata": {
  "kernelspec": {
   "display_name": "Python 3 (ipykernel)",
   "language": "python",
   "name": "python3"
  },
  "language_info": {
   "codemirror_mode": {
    "name": "ipython",
    "version": 3
   },
   "file_extension": ".py",
   "mimetype": "text/x-python",
   "name": "python",
   "nbconvert_exporter": "python",
   "pygments_lexer": "ipython3",
   "version": "3.10.4"
  }
 },
 "nbformat": 4,
 "nbformat_minor": 5
}
