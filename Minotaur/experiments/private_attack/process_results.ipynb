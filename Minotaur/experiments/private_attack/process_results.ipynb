{
 "cells": [
  {
   "cell_type": "code",
   "execution_count": null,
   "id": "8776d260",
   "metadata": {},
   "outputs": [],
   "source": [
    "import re\n",
    "import numpy as np\n",
    "import json\n",
    "import matplotlib\n",
    "import matplotlib.pyplot as plt"
   ]
  },
  {
   "cell_type": "code",
   "execution_count": null,
   "id": "448ff161",
   "metadata": {},
   "outputs": [],
   "source": [
    "p1=re.compile(\"Longest Blockchain Length: (\\d*)\")\n",
    "p2=re.compile(\"generate a block with parent height: (\\d*)\")\n",
    "\n",
    "def process_one(filename):\n",
    "    last_longest = None\n",
    "    attack_forking_start = None\n",
    "    attack_success = None\n",
    "    with open(filename) as fin:\n",
    "        for i, line in enumerate(fin):\n",
    "            result = p1.search(line)\n",
    "            if result is not None:\n",
    "                last_longest = (i, int(result.group(1)) )\n",
    "            result = p2.search(line)\n",
    "            if result is not None:\n",
    "                parent = int(result.group(1))\n",
    "                if attack_forking_start is None:\n",
    "                    attack_forking_start = parent\n",
    "                attack_forking_length = parent+1\n",
    "                if attack_forking_length >= last_longest[1]:\n",
    "                    #attack success\n",
    "                    attack_success = attack_forking_length\n",
    "    return attack_forking_start, attack_success"
   ]
  },
  {
   "cell_type": "code",
   "execution_count": null,
   "id": "8cedb46b",
   "metadata": {},
   "outputs": [],
   "source": [
    "def generate_matrix(filepath):\n",
    "    matrix = np.zeros((11,11))\n",
    "    for betas in range(11):\n",
    "        for betaw in range(11):\n",
    "            if betas+betaw==0:\n",
    "                continue\n",
    "            b1=betas/10\n",
    "            b2=betaw/10\n",
    "            attack_forking_start, attack_success = process_one(filepath+str(betas)+'-'+str(betaw)+'-attacker.log')\n",
    "            if attack_success is not None:\n",
    "                matrix[betas][betaw] = attack_success-attack_forking_start\n",
    "    return matrix"
   ]
  },
  {
   "cell_type": "code",
   "execution_count": null,
   "id": "11cb2c06",
   "metadata": {},
   "outputs": [],
   "source": [
    "def generate_array(filepath):\n",
    "    # for pure pos / pow\n",
    "    matrix = np.zeros((11,))\n",
    "    for betas in range(11):\n",
    "        if betas==0:\n",
    "            continue\n",
    "        b1=betas/10\n",
    "        attack_forking_start, attack_success = process_one(filepath+str(betas)+'-attacker.log')\n",
    "        if attack_success is not None:\n",
    "            matrix[betas] = attack_success-attack_forking_start\n",
    "    return matrix"
   ]
  },
  {
   "cell_type": "code",
   "execution_count": null,
   "id": "115a3680",
   "metadata": {},
   "outputs": [],
   "source": [
    "minotaur = generate_matrix('')\n",
    "pure_pos = generate_array('')"
   ]
  },
  {
   "cell_type": "code",
   "execution_count": null,
   "id": "67f4ba9e",
   "metadata": {
    "scrolled": true
   },
   "outputs": [],
   "source": [
    "minotaur_max = np.ceil(np.max(minotaur))\n",
    "norm = matplotlib.colors.Normalize(vmin=0, vmax=minotaur_max)\n",
    "\n",
    "grid = dict(height_ratios=[minotaur.shape[0],1], width_ratios=[1,minotaur.shape[0], 0.5 ])\n",
    "fig, axes = plt.subplots(ncols=3, nrows=2, gridspec_kw = grid)\n",
    "axes[0,1].imshow(minotaur, cmap='Reds', aspect='equal', interpolation='nearest', origin='lower', norm=norm)\n",
    "axes[0,0].imshow(pure_pos.reshape((11,1)), cmap='Reds', aspect='equal', interpolation='nearest', origin='lower', norm=norm)\n",
    "axes[1,1].imshow(pure_pos.reshape((1,11)), cmap='Reds', aspect='equal', interpolation='nearest', origin='lower', norm=norm)\n",
    "axes[1,0].axis(\"off\")\n",
    "axes[1,2].axis(\"off\")\n",
    "for ax in [axes[0,1], axes[0,0], axes[1,1]]:\n",
    "    ax.set_xticks([]); ax.set_yticks([])\n",
    "fig.colorbar(matplotlib.cm.ScalarMappable(cmap=\"Reds\", norm=norm), cax=axes[0,2])"
   ]
  }
 ],
 "metadata": {
  "kernelspec": {
   "display_name": "Python 3 (ipykernel)",
   "language": "python",
   "name": "python3"
  },
  "language_info": {
   "codemirror_mode": {
    "name": "ipython",
    "version": 3
   },
   "file_extension": ".py",
   "mimetype": "text/x-python",
   "name": "python",
   "nbconvert_exporter": "python",
   "pygments_lexer": "ipython3",
   "version": "3.9.10"
  }
 },
 "nbformat": 4,
 "nbformat_minor": 5
}
