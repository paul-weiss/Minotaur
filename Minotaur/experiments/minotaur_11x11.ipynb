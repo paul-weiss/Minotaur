{
 "cells": [
  {
   "cell_type": "code",
   "execution_count": 48,
   "id": "8776d260",
   "metadata": {},
   "outputs": [],
   "source": [
    "import re\n",
    "import numpy as np\n",
    "import json\n",
    "import matplotlib.pyplot as plt\n",
    "plt.rcParams['text.usetex'] = False"
   ]
  },
  {
   "cell_type": "code",
   "execution_count": 26,
   "id": "448ff161",
   "metadata": {},
   "outputs": [],
   "source": [
    "p1=re.compile(\"Longest Blockchain Length: (\\d*)\")\n",
    "p2=re.compile(\"generate a block with parent height: (\\d*)\")\n",
    "\n",
    "def process_one(filename):\n",
    "    last_longest = None\n",
    "    attack_forking_start = None\n",
    "    attack_success = None\n",
    "    with open(filename) as fin:\n",
    "        for i, line in enumerate(fin):\n",
    "            result = p1.search(line)\n",
    "            if result is not None:\n",
    "                last_longest = (i, int(result.group(1)) )\n",
    "#                 print(last_longest)\n",
    "            result = p2.search(line)\n",
    "            if result is not None:\n",
    "                parent = int(result.group(1))\n",
    "                if attack_forking_start is None:\n",
    "                    attack_forking_start = parent\n",
    "#                     print(\"ATT\",attack_forking_start)\n",
    "                attack_forking_length = parent+1\n",
    "                if last_longest[0]+3!=i:\n",
    "                    print(filename,\"Wrong ling +3\",i,last_longest[0])\n",
    "                if attack_forking_length >= last_longest[1]:\n",
    "                    #attack success\n",
    "                    attack_success = attack_forking_length\n",
    "    return attack_forking_start, attack_success"
   ]
  },
  {
   "cell_type": "code",
   "execution_count": 27,
   "id": "eb9a32a1",
   "metadata": {},
   "outputs": [
    {
     "name": "stdout",
     "output_type": "stream",
     "text": [
      "ATT 155\n",
      "ATT 153\n",
      "ATT 146\n",
      "ATT 162\n",
      "ATT 144\n",
      "ATT 155\n",
      "ATT 147\n",
      "ATT 138\n",
      "ATT 152\n",
      "ATT 160\n",
      "private_attack_experiment_1/1-9-attacker.log Wrong ling +3 3402 3397\n",
      "ATT 153\n",
      "ATT 155\n",
      "ATT 152\n",
      "ATT 137\n",
      "ATT 157\n",
      "ATT 134\n",
      "ATT 173\n",
      "private_attack_experiment_1/2-5-attacker.log Wrong ling +3 3296 3291\n",
      "ATT 159\n",
      "ATT 150\n",
      "ATT 137\n",
      "ATT 187\n",
      "ATT 145\n",
      "ATT 149\n",
      "private_attack_experiment_1/3-0-attacker.log Wrong ling +3 3304 3299\n",
      "ATT 155\n",
      "private_attack_experiment_1/3-1-attacker.log Wrong ling +3 3532 3527\n",
      "ATT 147\n",
      "ATT 140\n",
      "ATT 156\n",
      "ATT 144\n",
      "ATT 158\n",
      "ATT 152\n",
      "ATT 168\n",
      "ATT 164\n",
      "private_attack_experiment_1/3-9-attacker.log Wrong ling +3 3077 3072\n",
      "ATT 149\n",
      "ATT 164\n",
      "ATT 147\n",
      "private_attack_experiment_1/4-1-attacker.log Wrong ling +3 4439 4434\n",
      "ATT 154\n",
      "ATT 151\n",
      "ATT 141\n",
      "private_attack_experiment_1/4-4-attacker.log Wrong ling +3 4017 4015\n",
      "ATT 159\n",
      "private_attack_experiment_1/4-5-attacker.log Wrong ling +3 1998 1993\n",
      "ATT 146\n",
      "ATT 138\n",
      "private_attack_experiment_1/4-7-attacker.log Wrong ling +3 3132 3127\n",
      "ATT 175\n",
      "ATT 157\n",
      "ATT 173\n",
      "ATT 162\n",
      "ATT 156\n",
      "private_attack_experiment_1/5-1-attacker.log Wrong ling +3 3832 3827\n",
      "ATT 162\n",
      "ATT 170\n",
      "ATT 157\n",
      "ATT 140\n",
      "ATT 173\n",
      "ATT 151\n",
      "ATT 173\n",
      "private_attack_experiment_1/5-8-attacker.log Wrong ling +3 2567 2562\n",
      "ATT 157\n",
      "ATT 174\n",
      "ATT 144\n",
      "ATT 153\n",
      "ATT 168\n",
      "private_attack_experiment_1/6-2-attacker.log Wrong ling +3 3513 3508\n",
      "private_attack_experiment_1/6-2-attacker.log Wrong ling +3 4512 4511\n",
      "ATT 157\n",
      "ATT 162\n",
      "ATT 160\n",
      "ATT 170\n",
      "ATT 147\n",
      "ATT 154\n",
      "ATT 167\n",
      "ATT 154\n",
      "ATT 141\n",
      "ATT 154\n",
      "private_attack_experiment_1/7-1-attacker.log Wrong ling +3 4277 4272\n",
      "ATT 165\n",
      "ATT 143\n",
      "ATT 171\n",
      "private_attack_experiment_1/7-4-attacker.log Wrong ling +3 4285 4281\n",
      "ATT 140\n",
      "ATT 151\n",
      "ATT 168\n",
      "ATT 172\n",
      "ATT 157\n",
      "ATT 161\n",
      "ATT 146\n",
      "ATT 150\n",
      "private_attack_experiment_1/8-1-attacker.log Wrong ling +3 3262 3257\n",
      "private_attack_experiment_1/8-1-attacker.log Wrong ling +3 4367 4362\n",
      "ATT 149\n",
      "private_attack_experiment_1/8-2-attacker.log Wrong ling +3 4217 4212\n",
      "ATT 167\n",
      "ATT 153\n",
      "private_attack_experiment_1/8-4-attacker.log Wrong ling +3 3888 3883\n",
      "ATT 167\n",
      "ATT 145\n",
      "ATT 146\n",
      "ATT 137\n",
      "ATT 125\n",
      "ATT 171\n",
      "ATT 130\n",
      "ATT 149\n",
      "private_attack_experiment_1/9-1-attacker.log Wrong ling +3 3086 3081\n",
      "ATT 148\n",
      "private_attack_experiment_1/9-2-attacker.log Wrong ling +3 4447 4440\n",
      "ATT 140\n",
      "private_attack_experiment_1/9-3-attacker.log Wrong ling +3 4208 4207\n",
      "ATT 142\n",
      "ATT 152\n",
      "private_attack_experiment_1/9-5-attacker.log Wrong ling +3 3724 3719\n",
      "ATT 143\n",
      "ATT 156\n",
      "ATT 161\n",
      "ATT 141\n",
      "ATT 123\n",
      "ATT 157\n",
      "ATT 168\n",
      "ATT 152\n",
      "private_attack_experiment_1/10-2-attacker.log Wrong ling +3 4351 4346\n",
      "ATT 167\n",
      "ATT 136\n",
      "ATT 150\n",
      "ATT 174\n",
      "ATT 139\n",
      "ATT 163\n",
      "ATT 137\n",
      "ATT 153\n"
     ]
    }
   ],
   "source": [
    "filepath='private_attack_experiment_1/'\n",
    "matrix = np.zeros((11,11))\n",
    "for betas in range(11):\n",
    "    for betaw in range(11):\n",
    "        if betas+betaw==0:\n",
    "            continue\n",
    "        b1=betas/10\n",
    "        b2=betaw/10\n",
    "        attack_forking_start, attack_success = process_one(filepath+str(betas)+'-'+str(betaw)+'-attacker.log')\n",
    "        if attack_success is not None:\n",
    "            matrix[betas][betaw] = attack_success-attack_forking_start"
   ]
  },
  {
   "cell_type": "code",
   "execution_count": 31,
   "id": "0b8a4e40",
   "metadata": {},
   "outputs": [
    {
     "data": {
      "text/plain": [
       "'[[0.0, 0.0, 0.0, 0.0, 0.0, 0.0, 0.0, 0.0, 0.0, 0.0, 0.0], [0.0, 0.0, 0.0, 0.0, 0.0, 0.0, 0.0, 1.0, 0.0, 0.0, 0.0], [0.0, 0.0, 1.0, 0.0, 1.0, 0.0, 0.0, 6.0, 1.0, 0.0, 0.0], [0.0, 0.0, 5.0, 1.0, 0.0, 2.0, 12.0, 6.0, 13.0, 3.0, 29.0], [4.0, 0.0, 0.0, 6.0, 0.0, 7.0, 63.0, 46.0, 0.0, 67.0, 68.0], [17.0, 2.0, 2.0, 62.0, 67.0, 40.0, 78.0, 94.0, 87.0, 83.0, 69.0], [3.0, 58.0, 48.0, 63.0, 64.0, 68.0, 75.0, 84.0, 70.0, 73.0, 118.0], [51.0, 48.0, 55.0, 50.0, 60.0, 88.0, 87.0, 77.0, 96.0, 97.0, 111.0], [47.0, 59.0, 67.0, 81.0, 82.0, 106.0, 80.0, 114.0, 116.0, 122.0, 112.0], [79.0, 66.0, 80.0, 92.0, 112.0, 97.0, 112.0, 121.0, 142.0, 148.0, 135.0], [76.0, 95.0, 73.0, 125.0, 114.0, 125.0, 132.0, 120.0, 143.0, 137.0, 165.0]]'"
      ]
     },
     "execution_count": 31,
     "metadata": {},
     "output_type": "execute_result"
    }
   ],
   "source": [
    "json.dumps(matrix.tolist())"
   ]
  },
  {
   "cell_type": "code",
   "execution_count": 65,
   "id": "67f4ba9e",
   "metadata": {},
   "outputs": [
    {
     "data": {
      "image/png": "[encoded data removed]",
      "text/plain": [
       "<Figure size 432x288 with 2 Axes>"
      ]
     },
     "metadata": {
      "needs_background": "light"
     },
     "output_type": "display_data"
    }
   ],
   "source": [
    "plt.imshow(matrix, cmap='Reds', interpolation='nearest')\n",
    "plt.xlabel(r\"$\\beta_w$\")\n",
    "plt.ylabel(r\"$\\beta_s$\")\n",
    "plt.xticks(np.linspace(0,10,6), np.round(np.linspace(0,1,6),2))\n",
    "plt.yticks(np.linspace(0,10,6), np.round(np.linspace(0,1,6),2))\n",
    "plt.colorbar()\n",
    "plt.savefig(\"tmp1.pdf\")"
   ]
  },
  {
   "cell_type": "code",
   "execution_count": 22,
   "id": "c891fc96",
   "metadata": {},
   "outputs": [
    {
     "name": "stdout",
     "output_type": "stream",
     "text": [
      "ATT 153\n"
     ]
    },
    {
     "data": {
      "text/plain": [
       "(153, None)"
      ]
     },
     "execution_count": 22,
     "metadata": {},
     "output_type": "execute_result"
    }
   ],
   "source": [
    "process_one(\"private_attack_experiment_1/1-1-attacker.log\")"
   ]
  },
  {
   "cell_type": "code",
   "execution_count": 59,
   "id": "07158188",
   "metadata": {},
   "outputs": [
    {
     "data": {
      "text/plain": [
       "array([ 0.,  2.,  4.,  6.,  8., 10.])"
      ]
     },
     "execution_count": 59,
     "metadata": {},
     "output_type": "execute_result"
    }
   ],
   "source": [
    "np.linspace(0,10,6)"
   ]
  },
  {
   "cell_type": "code",
   "execution_count": null,
   "id": "e345f50e",
   "metadata": {},
   "outputs": [],
   "source": []
  }
 ],
 "metadata": {
  "kernelspec": {
   "display_name": "Python3.9",
   "language": "python",
   "name": "python3.9"
  },
  "language_info": {
   "codemirror_mode": {
    "name": "ipython",
    "version": 3
   },
   "file_extension": ".py",
   "mimetype": "text/x-python",
   "name": "python",
   "nbconvert_exporter": "python",
   "pygments_lexer": "ipython3",
   "version": "3.9.10"
  }
 },
 "nbformat": 4,
 "nbformat_minor": 5
}
